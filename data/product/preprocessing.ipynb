{
 "cells": [
  {
   "attachments": {},
   "cell_type": "markdown",
   "metadata": {},
   "source": [
    "# Dataset Preprocessing\n",
    "\n",
    "Build ... TODO\n",
    "\n",
    "Download from ... TODO\n",
    "\n"
   ]
  },
  {
   "cell_type": "code",
   "execution_count": 53,
   "metadata": {},
   "outputs": [],
   "source": [
    "import pandas as pd\n",
    "import numpy as np"
   ]
  },
  {
   "attachments": {},
   "cell_type": "markdown",
   "metadata": {},
   "source": [
    "## Generate ratings.csv\n",
    "\n",
    "Convert four behaviors into explicit ratings:\n",
    "\n",
    "['click', 'collect', 'cart', 'alipay'] → [1.25, 2.5, 3.75, 5]"
   ]
  },
  {
   "cell_type": "code",
   "execution_count": 54,
   "metadata": {},
   "outputs": [
    {
     "data": {
      "text/html": [
       "<div>\n",
       "<style scoped>\n",
       "    .dataframe tbody tr th:only-of-type {\n",
       "        vertical-align: middle;\n",
       "    }\n",
       "\n",
       "    .dataframe tbody tr th {\n",
       "        vertical-align: top;\n",
       "    }\n",
       "\n",
       "    .dataframe thead th {\n",
       "        text-align: right;\n",
       "    }\n",
       "</style>\n",
       "<table border=\"1\" class=\"dataframe\">\n",
       "  <thead>\n",
       "    <tr style=\"text-align: right;\">\n",
       "      <th></th>\n",
       "      <th>item_id</th>\n",
       "      <th>user_id</th>\n",
       "      <th>vtime</th>\n",
       "    </tr>\n",
       "    <tr>\n",
       "      <th>action</th>\n",
       "      <th></th>\n",
       "      <th></th>\n",
       "      <th></th>\n",
       "    </tr>\n",
       "  </thead>\n",
       "  <tbody>\n",
       "    <tr>\n",
       "      <th>alipay</th>\n",
       "      <td>7</td>\n",
       "      <td>7</td>\n",
       "      <td>7</td>\n",
       "    </tr>\n",
       "    <tr>\n",
       "      <th>cart</th>\n",
       "      <td>358</td>\n",
       "      <td>358</td>\n",
       "      <td>358</td>\n",
       "    </tr>\n",
       "    <tr>\n",
       "      <th>click</th>\n",
       "      <td>4474</td>\n",
       "      <td>4474</td>\n",
       "      <td>4474</td>\n",
       "    </tr>\n",
       "    <tr>\n",
       "      <th>collect</th>\n",
       "      <td>5</td>\n",
       "      <td>5</td>\n",
       "      <td>5</td>\n",
       "    </tr>\n",
       "  </tbody>\n",
       "</table>\n",
       "</div>"
      ],
      "text/plain": [
       "         item_id  user_id  vtime\n",
       "action                          \n",
       "alipay         7        7      7\n",
       "cart         358      358    358\n",
       "click       4474     4474   4474\n",
       "collect        5        5      5"
      ]
     },
     "execution_count": 54,
     "metadata": {},
     "output_type": "execute_result"
    }
   ],
   "source": [
    "# Read raw data\n",
    "log = pd.read_csv(\"./raw/(sample)sam_tianchi_2014002_rec_tmall_log.csv\")\n",
    "log.groupby('action').count()"
   ]
  },
  {
   "cell_type": "code",
   "execution_count": 55,
   "metadata": {},
   "outputs": [
    {
     "data": {
      "text/html": [
       "<div>\n",
       "<style scoped>\n",
       "    .dataframe tbody tr th:only-of-type {\n",
       "        vertical-align: middle;\n",
       "    }\n",
       "\n",
       "    .dataframe tbody tr th {\n",
       "        vertical-align: top;\n",
       "    }\n",
       "\n",
       "    .dataframe thead th {\n",
       "        text-align: right;\n",
       "    }\n",
       "</style>\n",
       "<table border=\"1\" class=\"dataframe\">\n",
       "  <thead>\n",
       "    <tr style=\"text-align: right;\">\n",
       "      <th></th>\n",
       "      <th>item_id</th>\n",
       "      <th>user_id</th>\n",
       "      <th>vtime</th>\n",
       "    </tr>\n",
       "    <tr>\n",
       "      <th>action</th>\n",
       "      <th></th>\n",
       "      <th></th>\n",
       "      <th></th>\n",
       "    </tr>\n",
       "  </thead>\n",
       "  <tbody>\n",
       "    <tr>\n",
       "      <th>1.25</th>\n",
       "      <td>4474</td>\n",
       "      <td>4474</td>\n",
       "      <td>4474</td>\n",
       "    </tr>\n",
       "    <tr>\n",
       "      <th>2.50</th>\n",
       "      <td>5</td>\n",
       "      <td>5</td>\n",
       "      <td>5</td>\n",
       "    </tr>\n",
       "    <tr>\n",
       "      <th>3.75</th>\n",
       "      <td>358</td>\n",
       "      <td>358</td>\n",
       "      <td>358</td>\n",
       "    </tr>\n",
       "    <tr>\n",
       "      <th>5.00</th>\n",
       "      <td>7</td>\n",
       "      <td>7</td>\n",
       "      <td>7</td>\n",
       "    </tr>\n",
       "  </tbody>\n",
       "</table>\n",
       "</div>"
      ],
      "text/plain": [
       "        item_id  user_id  vtime\n",
       "action                         \n",
       "1.25       4474     4474   4474\n",
       "2.50          5        5      5\n",
       "3.75        358      358    358\n",
       "5.00          7        7      7"
      ]
     },
     "execution_count": 55,
     "metadata": {},
     "output_type": "execute_result"
    }
   ],
   "source": [
    "# Convert four behaviors into explicit ratings\n",
    "log.action = log.action.replace(\n",
    "    ['click', 'collect', 'cart', 'alipay'], \n",
    "    [1.25, 2.5, 3.75, 5])\n",
    "log.groupby('action').count()"
   ]
  },
  {
   "cell_type": "code",
   "execution_count": 56,
   "metadata": {},
   "outputs": [],
   "source": [
    "# Save to ratings.csv\n",
    "log.to_csv('ratings.csv', index=False, sep='\\t')"
   ]
  },
  {
   "attachments": {},
   "cell_type": "markdown",
   "metadata": {},
   "source": [
    "## Generate kg.txt\n",
    "\n",
    "**from `...log.csv`**\n",
    "\n",
    "* action_pattern\n",
    "* unique_user\n",
    "* purchase_frequency\n",
    "\n",
    "**from `...product.csv`**\n",
    "\n",
    "* product.belong_to.leave_category\n",
    "* leave_category.belong_to.parent_category\n",
    "* \n",
    "* product.product_brand.brand\n",
    "* product.selled_by.seller\n",
    "\n",
    "**from `...review.csv`**\n",
    "\n",
    "* feedback_pattern\n",
    "* purchase_feedback_interval"
   ]
  },
  {
   "cell_type": "code",
   "execution_count": 57,
   "metadata": {},
   "outputs": [
    {
     "data": {
      "text/plain": [
       "item_id       int64\n",
       "title        object\n",
       "pict_url     object\n",
       "category     object\n",
       "brand_id     object\n",
       "seller_id    object\n",
       "dtype: object"
      ]
     },
     "execution_count": 57,
     "metadata": {},
     "output_type": "execute_result"
    }
   ],
   "source": [
    "product = pd.read_csv('./raw/(sample)sam_tianchi_2014001_rec_tmall_product.csv', encoding='GBK')\n",
    "    # dtype={'title':'str', 'pict_url':'str', 'category':'str', 'brand_id':'str', 'seller_id':'str'}\n",
    "product.dtypes"
   ]
  },
  {
   "cell_type": "code",
   "execution_count": 58,
   "metadata": {},
   "outputs": [],
   "source": [
    "kg = [['head', 'relation', 'tail'], ]\n",
    "for _, row in product.iterrows():\n",
    "    \n",
    "    # product.belong_to.leave_category\n",
    "    kg.append([\n",
    "        f'i{row.item_id}',\n",
    "        'belong_to',\n",
    "        f'c{row.category}'\n",
    "    ])\n",
    "\n",
    "    # leave_category.belong_to.parent_category\n",
    "    entry = [\n",
    "        f'c{row.category}',\n",
    "        'belong_to',\n",
    "        f'c{row.category.split(\"-\")[0]}'\n",
    "    ]\n",
    "    kg.append(entry) if entry not in kg else ()\n",
    "\n",
    "    # product.product_brand.brand\n",
    "    kg.append([\n",
    "        f'i{row.item_id}',\n",
    "        'product_brand',\n",
    "        f'{row.brand_id}'\n",
    "    ]) if row.brand_id == row.brand_id else ()  # (NaN == NaN) => False\n",
    "\n",
    "    # product.selled_by.seller\n",
    "    kg.append([\n",
    "        f'i{row.item_id}',\n",
    "        'selled_by',\n",
    "        f'{row.seller_id}'\n",
    "    ])\n",
    "np.savetxt('kg.txt', kg[1:], fmt='%s', delimiter='\\t')"
   ]
  },
  {
   "attachments": {},
   "cell_type": "markdown",
   "metadata": {},
   "source": [
    "## Generate item_index2entity_id.txt\n",
    "\n",
    "The items/entities include user id, product id, parent/leave category, brand id, seller id."
   ]
  },
  {
   "cell_type": "code",
   "execution_count": 59,
   "metadata": {},
   "outputs": [],
   "source": [
    "kg = np.array(kg)\n",
    "items_in_kg = kg[1:, 0::2].flatten().tolist()\n",
    "items_of_user = log.user_id.tolist()\n",
    "items = items_in_kg + items_of_user\n",
    "items = list(set(items))  # Move duplicates\n",
    "i2e = [[item, entity] for entity, item in enumerate(items)]\n",
    "np.savetxt('item_index2entity_id.txt', i2e, fmt='%s', delimiter='\\t')"
   ]
  }
 ],
 "metadata": {
  "kernelspec": {
   "display_name": "pt",
   "language": "python",
   "name": "python3"
  },
  "language_info": {
   "codemirror_mode": {
    "name": "ipython",
    "version": 3
   },
   "file_extension": ".py",
   "mimetype": "text/x-python",
   "name": "python",
   "nbconvert_exporter": "python",
   "pygments_lexer": "ipython3",
   "version": "3.10.9"
  },
  "orig_nbformat": 4,
  "vscode": {
   "interpreter": {
    "hash": "2a7a4037234fda60e80b4719cb285846bdb06efaa95969996e56a57329cfa990"
   }
  }
 },
 "nbformat": 4,
 "nbformat_minor": 2
}
